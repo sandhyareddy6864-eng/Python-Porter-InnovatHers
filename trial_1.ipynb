{
 "cells": [
  {
   "cell_type": "code",
   "execution_count": 8,
   "id": "6fb7a4cf",
   "metadata": {},
   "outputs": [
    {
     "name": "stdout",
     "output_type": "stream",
     "text": [
      "❌ Invalid API key or issue: Incorrect API key provided: sk-or-v1*************************************************************298a. You can find your API key at https://platform.openai.com/account/api-keys.\n"
     ]
    }
   ],
   "source": [
    "import openai\n",
    "openai.api_key = \"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\"\n",
    "\n",
    "try:\n",
    "    response = openai.Model.list()\n",
    "    print(\"✅ API key is valid!\")\n",
    "    print(\"Available models:\", [m.id for m in response.data])\n",
    "except Exception as e:\n",
    "    print(\"❌ Invalid API key or issue:\", e)"
   ]
  },
  {
   "cell_type": "code",
   "execution_count": 4,
   "id": "fb92755f",
   "metadata": {},
   "outputs": [
    {
     "name": "stderr",
     "output_type": "stream",
     "text": [
      "/Users/veerdakshagarwal/Library/Python/3.9/lib/python/site-packages/urllib3/__init__.py:35: NotOpenSSLWarning: urllib3 v2 only supports OpenSSL 1.1.1+, currently the 'ssl' module is compiled with 'LibreSSL 2.8.3'. See: https://github.com/urllib3/urllib3/issues/3020\n",
      "  warnings.warn(\n"
     ]
    }
   ],
   "source": [
    "import openai"
   ]
  },
  {
   "cell_type": "code",
   "execution_count": 3,
   "id": "f1d3fb20",
   "metadata": {},
   "outputs": [
    {
     "name": "stdout",
     "output_type": "stream",
     "text": [
      "Defaulting to user installation because normal site-packages is not writeable\n",
      "Collecting openai==0.28\n",
      "  Downloading openai-0.28.0-py3-none-any.whl (76 kB)\n",
      "\u001b[K     |████████████████████████████████| 76 kB 5.2 MB/s eta 0:00:01\n",
      "\u001b[?25hCollecting aiohttp\n",
      "  Downloading aiohttp-3.12.15-cp39-cp39-macosx_11_0_arm64.whl (469 kB)\n",
      "\u001b[K     |████████████████████████████████| 469 kB 18.9 MB/s eta 0:00:01\n",
      "\u001b[?25hCollecting tqdm\n",
      "  Downloading tqdm-4.67.1-py3-none-any.whl (78 kB)\n",
      "\u001b[K     |████████████████████████████████| 78 kB 12.9 MB/s eta 0:00:01\n",
      "\u001b[?25hCollecting requests>=2.20\n",
      "  Downloading requests-2.32.5-py3-none-any.whl (64 kB)\n",
      "\u001b[K     |████████████████████████████████| 64 kB 5.0 MB/s eta 0:00:01\n",
      "\u001b[?25hCollecting charset_normalizer<4,>=2\n",
      "  Downloading charset_normalizer-3.4.3-cp39-cp39-macosx_10_9_universal2.whl (207 kB)\n",
      "\u001b[K     |████████████████████████████████| 207 kB 22.5 MB/s eta 0:00:01\n",
      "\u001b[?25hRequirement already satisfied: idna<4,>=2.5 in /Users/veerdakshagarwal/Library/Python/3.9/lib/python/site-packages (from requests>=2.20->openai==0.28) (3.10)\n",
      "Collecting urllib3<3,>=1.21.1\n",
      "  Downloading urllib3-2.5.0-py3-none-any.whl (129 kB)\n",
      "\u001b[K     |████████████████████████████████| 129 kB 25.0 MB/s eta 0:00:01\n",
      "\u001b[?25hRequirement already satisfied: certifi>=2017.4.17 in /Users/veerdakshagarwal/Library/Python/3.9/lib/python/site-packages (from requests>=2.20->openai==0.28) (2025.8.3)\n",
      "Collecting frozenlist>=1.1.1\n",
      "  Downloading frozenlist-1.7.0-cp39-cp39-macosx_11_0_arm64.whl (47 kB)\n",
      "\u001b[K     |████████████████████████████████| 47 kB 7.2 MB/s eta 0:00:011\n",
      "\u001b[?25hCollecting yarl<2.0,>=1.17.0\n",
      "  Downloading yarl-1.20.1-cp39-cp39-macosx_11_0_arm64.whl (89 kB)\n",
      "\u001b[K     |████████████████████████████████| 89 kB 217 kB/s  eta 0:00:01\n",
      "\u001b[?25hCollecting aiohappyeyeballs>=2.5.0\n",
      "  Downloading aiohappyeyeballs-2.6.1-py3-none-any.whl (15 kB)\n",
      "Collecting multidict<7.0,>=4.5\n",
      "  Downloading multidict-6.6.4-cp39-cp39-macosx_11_0_arm64.whl (44 kB)\n",
      "\u001b[K     |████████████████████████████████| 44 kB 1.0 MB/s eta 0:00:01\n",
      "\u001b[?25hCollecting async-timeout<6.0,>=4.0\n",
      "  Downloading async_timeout-5.0.1-py3-none-any.whl (6.2 kB)\n",
      "Collecting attrs>=17.3.0\n",
      "  Downloading attrs-25.3.0-py3-none-any.whl (63 kB)\n",
      "\u001b[K     |████████████████████████████████| 63 kB 3.1 MB/s eta 0:00:01\n",
      "\u001b[?25hCollecting aiosignal>=1.4.0\n",
      "  Downloading aiosignal-1.4.0-py3-none-any.whl (7.5 kB)\n",
      "Collecting propcache>=0.2.0\n",
      "  Downloading propcache-0.3.2-cp39-cp39-macosx_11_0_arm64.whl (43 kB)\n",
      "\u001b[K     |████████████████████████████████| 43 kB 5.5 MB/s  eta 0:00:01\n",
      "\u001b[?25hRequirement already satisfied: typing-extensions>=4.2 in /Users/veerdakshagarwal/Library/Python/3.9/lib/python/site-packages (from aiosignal>=1.4.0->aiohttp->openai==0.28) (4.15.0)\n",
      "Installing collected packages: propcache, multidict, frozenlist, yarl, urllib3, charset-normalizer, attrs, async-timeout, aiosignal, aiohappyeyeballs, tqdm, requests, aiohttp, openai\n",
      "Successfully installed aiohappyeyeballs-2.6.1 aiohttp-3.12.15 aiosignal-1.4.0 async-timeout-5.0.1 attrs-25.3.0 charset-normalizer-3.4.3 frozenlist-1.7.0 multidict-6.6.4 openai-0.28.0 propcache-0.3.2 requests-2.32.5 tqdm-4.67.1 urllib3-2.5.0 yarl-1.20.1\n",
      "\u001b[33mWARNING: You are using pip version 21.2.4; however, version 25.2 is available.\n",
      "You should consider upgrading via the '/Library/Developer/CommandLineTools/usr/bin/python3 -m pip install --upgrade pip' command.\u001b[0m\n",
      "Note: you may need to restart the kernel to use updated packages.\n"
     ]
    }
   ],
   "source": [
    "pip install openai==0.28"
   ]
  },
  {
   "cell_type": "code",
   "execution_count": null,
   "id": "b5d618f0",
   "metadata": {},
   "outputs": [],
   "source": []
  }
 ],
 "metadata": {
  "kernelspec": {
   "display_name": "Python 3",
   "language": "python",
   "name": "python3"
  },
  "language_info": {
   "codemirror_mode": {
    "name": "ipython",
    "version": 3
   },
   "file_extension": ".py",
   "mimetype": "text/x-python",
   "name": "python",
   "nbconvert_exporter": "python",
   "pygments_lexer": "ipython3",
   "version": "3.9.6"
  }
 },
 "nbformat": 4,
 "nbformat_minor": 5
}
